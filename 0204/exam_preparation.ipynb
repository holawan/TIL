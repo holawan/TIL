{
 "cells": [
  {
   "cell_type": "code",
   "execution_count": 1,
   "id": "2eab2b2f-bfdc-440b-a81e-92ef21dd8edf",
   "metadata": {},
   "outputs": [
    {
     "name": "stdout",
     "output_type": "stream",
     "text": [
      "Hello, World!\n"
     ]
    }
   ],
   "source": [
    "print('Hello, World!')"
   ]
  },
  {
   "cell_type": "code",
   "execution_count": 2,
   "id": "0e46a0cd-2a89-4a33-bbad-e35f09f3e408",
   "metadata": {},
   "outputs": [
    {
     "name": "stdout",
     "output_type": "stream",
     "text": [
      "1 4 7 2 5 8 3 6 9 "
     ]
    }
   ],
   "source": [
    "numbers = [[1,2,3],[4,5,6],[7,8,9]]\n",
    "for i in range(len(numbers)) :\n",
    "    for j in range(len(numbers)) :\n",
    "        print(numbers[j][i],end = ' ')"
   ]
  },
  {
   "cell_type": "code",
   "execution_count": 3,
   "id": "cd77190d-195a-4d70-a8ad-fb6a81fb37c5",
   "metadata": {},
   "outputs": [],
   "source": [
    "lunch = ['짜장면','짬뽕','탕수육']"
   ]
  },
  {
   "cell_type": "code",
   "execution_count": 8,
   "id": "52c8da25-9919-49f0-8847-3b3f312230db",
   "metadata": {},
   "outputs": [
    {
     "name": "stdout",
     "output_type": "stream",
     "text": [
      "1 짜장면\n",
      "2 짬뽕\n",
      "3 탕수육\n"
     ]
    }
   ],
   "source": [
    "for idx, num in enumerate(lunch,start=1) :\n",
    "    print(idx,num)"
   ]
  },
  {
   "cell_type": "code",
   "execution_count": 10,
   "id": "e820682d-b5cb-4baa-bf9e-803edd4871b8",
   "metadata": {},
   "outputs": [
    {
     "name": "stdout",
     "output_type": "stream",
     "text": [
      "['java', 's5g4', 'spring', 'extra']\n"
     ]
    }
   ],
   "source": [
    "documents = ['java', 'python', 's5g4', 's5g2', 'spring', 'django', 'extra']\n",
    "python_class = [documents[i] for i in range(0, len(documents), 2)]\n",
    "print(python_class)"
   ]
  },
  {
   "cell_type": "code",
   "execution_count": 12,
   "id": "ae259b53-3d15-4093-8fe8-ba1ef4142906",
   "metadata": {},
   "outputs": [
    {
     "name": "stdin",
     "output_type": "stream",
     "text": [
      "숫자입력:\t 4\n"
     ]
    },
    {
     "name": "stdout",
     "output_type": "stream",
     "text": [
      "짝수입니다. \n"
     ]
    }
   ],
   "source": [
    "#조건문을 통해 변수 num의 값의 홀수/ 짝수 여부를 출력하는 코드\n",
    "\n",
    "num = int(input('숫자입력:\t'))\n",
    "if num %2 : #if num% 2 ==1 :\n",
    "  print('홀수입니다.')\n",
    "else :\n",
    "  print('짝수입니다. ')"
   ]
  },
  {
   "cell_type": "code",
   "execution_count": 13,
   "id": "34219068-7285-4d1a-81cd-6b924690bdf1",
   "metadata": {},
   "outputs": [
    {
     "name": "stdout",
     "output_type": "stream",
     "text": [
      "보통\n"
     ]
    }
   ],
   "source": [
    "dust = 80\n",
    "\n",
    "if dust >150 :\n",
    "  print('매우 나쁨')\n",
    "elif dust >80 :\n",
    "  print('나쁨')\n",
    "elif dust >30 :\n",
    "  print('보통')\n",
    "else :\n",
    "  print('좋음')"
   ]
  },
  {
   "cell_type": "code",
   "execution_count": 14,
   "id": "c760f100-9dcc-4844-9c09-1c25d28f4e19",
   "metadata": {},
   "outputs": [
    {
     "name": "stdout",
     "output_type": "stream",
     "text": [
      "값이 잘못 되었습니다.\n"
     ]
    }
   ],
   "source": [
    "dust = -10\n",
    "\n",
    "if dust >150 :\n",
    "  print('매우나쁨')\n",
    "  if dust >300 :\n",
    "    print('실외 활동을 자제하세요')\n",
    "elif dust >80 :\n",
    "  print('나쁨')\n",
    "elif dust >30 :\n",
    "  print('보통')\n",
    "else :\n",
    "  if dust >= 0:\n",
    "    print('좋음')\n",
    "  else :\n",
    "    print('값이 잘못 되었습니다.')"
   ]
  },
  {
   "cell_type": "code",
   "execution_count": 15,
   "id": "3a98680a-fb50-4572-9822-5d02a2d849e6",
   "metadata": {},
   "outputs": [
    {
     "name": "stdout",
     "output_type": "stream",
     "text": [
      "짝수\n",
      "짝수\n"
     ]
    }
   ],
   "source": [
    "num = 2 \n",
    "if num % 2 :\n",
    "  result = '홀수'\n",
    "else :\n",
    "  result = '짝수'\n",
    "print(result)\n",
    "\n",
    "result = '홀수' if num %2 else '짝수'\n",
    "print(result)"
   ]
  },
  {
   "cell_type": "code",
   "execution_count": 17,
   "id": "5dd33e30-8273-4378-9bc6-aac8f52706f1",
   "metadata": {},
   "outputs": [
    {
     "name": "stdin",
     "output_type": "stream",
     "text": [
      "숫자 :  3\n"
     ]
    },
    {
     "name": "stdout",
     "output_type": "stream",
     "text": [
      "3\n"
     ]
    }
   ],
   "source": [
    "num = int(input('숫자 : '))\n",
    "value = num if num >=0 else -num\n",
    "print(value)"
   ]
  },
  {
   "cell_type": "code",
   "execution_count": 18,
   "id": "cb15b8a8-3361-4490-b407-b42eda50a2ff",
   "metadata": {},
   "outputs": [
    {
     "name": "stdin",
     "output_type": "stream",
     "text": [
      " 10\n"
     ]
    },
    {
     "name": "stdout",
     "output_type": "stream",
     "text": [
      "55\n"
     ]
    }
   ],
   "source": [
    "n = 0\n",
    "total = 0\n",
    "user_input = int(input())\n",
    "\n",
    "while n <= user_input :\n",
    "  total += n\n",
    "  n += 1\n",
    "print(total)"
   ]
  },
  {
   "cell_type": "code",
   "execution_count": 19,
   "id": "5910b6ba-3905-41b7-ab89-c6e68ce0542b",
   "metadata": {},
   "outputs": [
    {
     "name": "stdout",
     "output_type": "stream",
     "text": [
      "dict_keys(['john', 'eric'])\n",
      "dict_values([80, 90])\n",
      "dict_items([('john', 80), ('eric', 90)])\n"
     ]
    }
   ],
   "source": [
    "grades = {'john' : 80, 'eric' : 90}\n",
    "print(grades.keys())\n",
    "print(grades.values())\n",
    "print(grades.items())"
   ]
  },
  {
   "cell_type": "code",
   "execution_count": 20,
   "id": "0c70fc31-ccf1-454e-9a73-33d5281801ab",
   "metadata": {},
   "outputs": [
    {
     "name": "stdout",
     "output_type": "stream",
     "text": [
      "john\n",
      "eric\n",
      "eric 90\n",
      "eric 90\n"
     ]
    }
   ],
   "source": [
    "grades = {'john' : 80, 'eric' : 90}\n",
    "for student in grades : \n",
    "  print(student)\n",
    "#john\n",
    "#eric\n",
    "for studnet in grades :\n",
    "  print(student, grades[student])\n",
    "#john 80\n",
    "#eric 90"
   ]
  },
  {
   "cell_type": "code",
   "execution_count": 26,
   "id": "7a91df7d-22ca-4da7-a533-2efbdb4d31f7",
   "metadata": {},
   "outputs": [
    {
     "name": "stdout",
     "output_type": "stream",
     "text": [
      "john 80\n",
      "eric 90\n"
     ]
    }
   ],
   "source": [
    "for a,b in grades.items():\n",
    "    print(a,b)"
   ]
  },
  {
   "cell_type": "code",
   "execution_count": null,
   "id": "86c34b5f-c3e9-4faa-ab12-42c88f2a0cb6",
   "metadata": {},
   "outputs": [],
   "source": []
  }
 ],
 "metadata": {
  "kernelspec": {
   "display_name": "Python 3 (ipykernel)",
   "language": "python",
   "name": "python3"
  },
  "language_info": {
   "codemirror_mode": {
    "name": "ipython",
    "version": 3
   },
   "file_extension": ".py",
   "mimetype": "text/x-python",
   "name": "python",
   "nbconvert_exporter": "python",
   "pygments_lexer": "ipython3",
   "version": "3.9.9"
  }
 },
 "nbformat": 4,
 "nbformat_minor": 5
}
