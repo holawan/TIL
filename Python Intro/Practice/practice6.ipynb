{
 "cells": [
  {
   "cell_type": "markdown",
   "metadata": {},
   "source": [
    "# Practice 3\n",
    "\n",
    "> 자료 구조 "
   ]
  },
  {
   "cell_type": "markdown",
   "metadata": {},
   "source": [
    "## 회문 판별\n",
    "\n",
    "> 회문 또는 팰린드롬은 거꾸로 읽어도 제대로 읽는 것과 같은 문장이나 낱말, 숫자, 문자열 등을 말한다. \n",
    "> \n",
    "> 입력으로 짧은 영어단어 word가 주어질 때, 해당 단어가 회문이면 True 회문이 아니면 False를 반환하는 함수를 작성하시오.\n",
    "> \n",
    "> 이때, 반복문(`while`)과 재귀 함수를 사용해서 각각 작성하시오.\n",
    "\n",
    "---\n",
    "\n",
    "예시)\n",
    "\n",
    "```python\n",
    "is_pal_while('tomato') #=> False\n",
    "is_pal_while('racecar') #=> True\n",
    "is_pal_recursive('azza') #=> True\n",
    "```"
   ]
  },
  {
   "cell_type": "code",
   "execution_count": 130,
   "metadata": {},
   "outputs": [],
   "source": [
    "def is_par_while(word) :\n",
    "    n_word = ''\n",
    "    i = -1\n",
    "    while i > -(len(word)+1) :\n",
    "        n_word += word[i]\n",
    "        i -= 1\n",
    "    return True if n_word==word else False, n_word\n",
    "    "
   ]
  },
  {
   "cell_type": "code",
   "execution_count": 131,
   "metadata": {},
   "outputs": [
    {
     "name": "stdout",
     "output_type": "stream",
     "text": [
      "(False, 'otamot')\n",
      "(True, 'rececer')\n",
      "(True, 'azza')\n"
     ]
    }
   ],
   "source": [
    "print(is_par_while('tomato'))\n",
    "print(is_par_while('rececer'))\n",
    "print(is_par_while('azza'))"
   ]
  },
  {
   "cell_type": "code",
   "execution_count": 128,
   "metadata": {},
   "outputs": [],
   "source": [
    "# for\n",
    "\n",
    "def is_pal_for(word):\n",
    "    n_word = ''\n",
    "    for i in range(-1,-(len(word)+1),-1) :\n",
    "        n_word += word[i]\n",
    "    return True if n_word==word else False, n_word\n",
    "        "
   ]
  },
  {
   "cell_type": "code",
   "execution_count": 129,
   "metadata": {},
   "outputs": [
    {
     "name": "stdout",
     "output_type": "stream",
     "text": [
      "(False, 'otamot')\n",
      "(True, 'racecar')\n",
      "(True, 'azza')\n"
     ]
    }
   ],
   "source": [
    "# 해당 코드를 통해 올바른 결과가 나오는지 확인하시오.\n",
    "print(is_pal_for('tomato'))\n",
    "print(is_pal_for('racecar'))\n",
    "print(is_pal_for('azza'))"
   ]
  },
  {
   "cell_type": "code",
   "execution_count": 126,
   "metadata": {},
   "outputs": [],
   "source": [
    "# slicing\n",
    "\n",
    "def is_pal_slice(word):\n",
    "    n_word = word[::-1]\n",
    "    return True if n_word==word else False, n_word\n",
    "        "
   ]
  },
  {
   "cell_type": "code",
   "execution_count": 127,
   "metadata": {
    "ExecuteTime": {
     "end_time": "2020-07-22T06:02:28.799426Z",
     "start_time": "2020-07-22T06:02:28.795559Z"
    }
   },
   "outputs": [
    {
     "name": "stdout",
     "output_type": "stream",
     "text": [
      "(False, 'otamot')\n",
      "(True, 'racecar')\n",
      "(True, 'azza')\n"
     ]
    }
   ],
   "source": [
    "# 해당 코드를 통해 올바른 결과가 나오는지 확인하시오.\n",
    "print(is_pal_slice('tomato'))\n",
    "print(is_pal_slice('racecar'))\n",
    "print(is_pal_slice('azza'))"
   ]
  },
  {
   "cell_type": "code",
   "execution_count": null,
   "metadata": {},
   "outputs": [],
   "source": [
    "# recursive\n",
    "def is_pal_recursive(word):\n",
    "    l = len(word)\n",
    "    if len(word) == 1:\n",
    "        return word #길이가 1이면 word 자체를 반환\n",
    "    else :\n",
    "        return word[-1] + is_pal_recursive(word[0:(l-1)])\n",
    "        #word의 마지막 글자 + is_par_recursive return"
   ]
  },
  {
   "cell_type": "code",
   "execution_count": 134,
   "metadata": {},
   "outputs": [],
   "source": [
    "# recursive\n",
    "def is_pal_recursive(word):\n",
    "    l = len(word)\n",
    "    if len(word) == 1:\n",
    "        n_word = word #길이가 1이면 word 자체를 반환\n",
    "    else :\n",
    "        n_word =  word[-1] + is_pal_recursive(word[0:(l-1)])\n",
    "        #word의 마지막 글자 + is_par_recursive return\n",
    "    return n_word"
   ]
  },
  {
   "cell_type": "code",
   "execution_count": 135,
   "metadata": {
    "ExecuteTime": {
     "end_time": "2020-07-22T05:45:13.268969Z",
     "start_time": "2020-07-22T05:45:13.263708Z"
    }
   },
   "outputs": [
    {
     "name": "stdout",
     "output_type": "stream",
     "text": [
      "otamot\n",
      "racecar\n",
      "azza\n"
     ]
    }
   ],
   "source": [
    "# 해당 코드를 통해 올바른 결과가 나오는지 확인하시오.\n",
    "print(is_pal_recursive('tomato'))\n",
    "print(is_pal_recursive('racecar'))\n",
    "print(is_pal_recursive('azza'))"
   ]
  },
  {
   "cell_type": "code",
   "execution_count": 92,
   "metadata": {},
   "outputs": [],
   "source": [
    "## 재귀로 풀어보기"
   ]
  },
  {
   "cell_type": "code",
   "execution_count": null,
   "metadata": {},
   "outputs": [],
   "source": []
  }
 ],
 "metadata": {
  "kernelspec": {
   "display_name": "Python 3",
   "language": "python",
   "name": "python3"
  },
  "language_info": {
   "codemirror_mode": {
    "name": "ipython",
    "version": 3
   },
   "file_extension": ".py",
   "mimetype": "text/x-python",
   "name": "python",
   "nbconvert_exporter": "python",
   "pygments_lexer": "ipython3",
   "version": "3.9.0"
  },
  "toc": {
   "base_numbering": 1,
   "nav_menu": {},
   "number_sections": true,
   "sideBar": true,
   "skip_h1_title": false,
   "title_cell": "Table of Contents",
   "title_sidebar": "Contents",
   "toc_cell": false,
   "toc_position": {},
   "toc_section_display": true,
   "toc_window_display": false
  }
 },
 "nbformat": 4,
 "nbformat_minor": 4
}
