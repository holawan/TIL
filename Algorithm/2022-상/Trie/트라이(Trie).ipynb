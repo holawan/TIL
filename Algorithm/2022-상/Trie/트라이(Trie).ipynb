{
 "cells": [
  {
   "cell_type": "markdown",
   "id": "fbebdbed",
   "metadata": {},
   "source": [
    "# 트라이"
   ]
  },
  {
   "cell_type": "markdown",
   "id": "6274d1ba",
   "metadata": {},
   "source": [
    "search tree중 하나로 문자열을 저장하기 위해 사용   \n",
    "데이터 구조에 [baby,ball,tree,trie]가 있을 때 "
   ]
  },
  {
   "cell_type": "markdown",
   "id": "3ccaa152",
   "metadata": {},
   "source": [
    "![trie](img/trie_basic.png)"
   ]
  },
  {
   "cell_type": "markdown",
   "id": "96860ebe",
   "metadata": {},
   "source": [
    "구글에서 ba까지만 검색히도 baby, ball을 검색해주고, tr만 검색해도 tree,trie를 띄워준다."
   ]
  },
  {
   "cell_type": "markdown",
   "id": "0801dcde",
   "metadata": {},
   "source": [
    "### find"
   ]
  },
  {
   "cell_type": "markdown",
   "id": "4a805aa7",
   "metadata": {},
   "source": [
    "루트 노드에서 t를 검색하면 왼쪽 두번째 노드로 r을 검색해보면 r로 e를 검색하면 e로 천천히 찾아간다.\n",
    "걸리는 시간은 O(m)"
   ]
  },
  {
   "cell_type": "markdown",
   "id": "1a396fac",
   "metadata": {},
   "source": [
    "### add"
   ]
  },
  {
   "cell_type": "markdown",
   "id": "0dc968c8",
   "metadata": {},
   "source": [
    "ballet이라는 단어를 추가하면 "
   ]
  },
  {
   "cell_type": "markdown",
   "id": "2ea4c0bf",
   "metadata": {},
   "source": [
    "![trie2](img/trie_basic_2.png)"
   ]
  },
  {
   "cell_type": "markdown",
   "id": "eb791456",
   "metadata": {},
   "source": [
    "![trie2](img/trie_basic_3.png)"
   ]
  },
  {
   "cell_type": "markdown",
   "id": "6f2f909a",
   "metadata": {},
   "source": [
    "### Node를 클래스로 만들기 \n",
    "- key에는 해당 노드의 문자가 들어가고, children에는 자식 노드가 포함되게 한다.\n",
    "- Data는 문자열이 끝나는 위치를 알려주는 역할을 한다. 예를들어서 '911'이 '1'에서 끝날 때, '1'을 key로 가지는 노드의 data에 '911'을 입력한다. 해당 노드에서 끝나는 문자열이 없을 경우에는 None을 그대로 놔둔다."
   ]
  },
  {
   "cell_type": "code",
   "execution_count": 8,
   "id": "aa068954",
   "metadata": {},
   "outputs": [],
   "source": [
    "class Node(object) :\n",
    "    def __init__(self, key, data = None):\n",
    "        self.key = key\n",
    "        self.data = data\n",
    "        self.children = {}"
   ]
  },
  {
   "cell_type": "code",
   "execution_count": 9,
   "id": "ff35dab4",
   "metadata": {},
   "outputs": [],
   "source": [
    "class Trie(object) :\n",
    "    def __init__(self) :\n",
    "        self.head = Node(None)\n",
    "    def __str__(self) :\n",
    "        return self.head.__str__()\n",
    "\n",
    "    #문자열 삽입 \n",
    "    def insert(self, string) :\n",
    "        curr_node = self.head\n",
    "        #삽입할 string 각각의 문자에 대해 자식 Node를 만들며 내려간다. \n",
    "        for s in string :\n",
    "            #자식 Node 들 중 같은 문자가 없으면 Node 새로 생성\n",
    "            if s not in curr_node.children :\n",
    "                curr_node.children[s] = Node(s)\n",
    "            #같은 문자가 있으면 노드를 따로 생성하지 않고, 해당 노드로 이동\n",
    "            curr_node = curr_node.children[s]\n",
    "            #문자열이 끝난 지점의 노드의 data값에 해당 문자열 입력\n",
    "        curr_node.data = string\n",
    "    #문자열이 존재하는지 search\n",
    "    def search_prefix(self, string) :\n",
    "        # 탐색 시작 \n",
    "        curr_node = self.head\n",
    "        \n",
    "        for s in string :\n",
    "            curr_node = curr_node.children[s]\n",
    "        #탐색이 끝난 후 해당 노듸의 데이터값이 존재한다면 문자가 포함되어있다는 뜻이므로 False\n",
    "        #아니면 True\n",
    "#         print(curr_node)\n",
    "        if curr_node.children :\n",
    "            return False\n",
    "        else :\n",
    "            return True "
   ]
  },
  {
   "cell_type": "code",
   "execution_count": 10,
   "id": "102850c5",
   "metadata": {},
   "outputs": [
    {
     "name": "stdout",
     "output_type": "stream",
     "text": [
      "1\n",
      "5\n",
      "112\n",
      "12345\n",
      "1234\n",
      "345\n",
      "1234\n",
      "NO\n"
     ]
    }
   ],
   "source": [
    "t = int(input())\n",
    "for _ in range(t) :\n",
    "    n = int(input())\n",
    "    trie =Trie()\n",
    "    nums = []\n",
    "    \n",
    "    for _ in range(n) :\n",
    "        num = input().rstrip()\n",
    "        nums.append(num)\n",
    "        trie.insert(num)\n",
    "        \n",
    "        flag = True\n",
    "        nums.sort()\n",
    "        \n",
    "        for num in nums :\n",
    "            if not trie.search_prefix(num) :\n",
    "                flag = False \n",
    "                break\n",
    "    if flag :\n",
    "        print('YES')\n",
    "    else :\n",
    "        print('NO')"
   ]
  },
  {
   "cell_type": "code",
   "execution_count": null,
   "id": "5bf8be79",
   "metadata": {},
   "outputs": [],
   "source": []
  }
 ],
 "metadata": {
  "kernelspec": {
   "display_name": "Python 3 (ipykernel)",
   "language": "python",
   "name": "python3"
  },
  "language_info": {
   "codemirror_mode": {
    "name": "ipython",
    "version": 3
   },
   "file_extension": ".py",
   "mimetype": "text/x-python",
   "name": "python",
   "nbconvert_exporter": "python",
   "pygments_lexer": "ipython3",
   "version": "3.9.9"
  },
  "toc": {
   "base_numbering": 1,
   "nav_menu": {},
   "number_sections": true,
   "sideBar": true,
   "skip_h1_title": false,
   "title_cell": "Table of Contents",
   "title_sidebar": "Contents",
   "toc_cell": false,
   "toc_position": {},
   "toc_section_display": true,
   "toc_window_display": false
  }
 },
 "nbformat": 4,
 "nbformat_minor": 5
}
