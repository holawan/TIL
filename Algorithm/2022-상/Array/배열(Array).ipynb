{
 "cells": [
  {
   "cell_type": "markdown",
   "id": "3970b3ab",
   "metadata": {},
   "source": [
    "Python에서 사이즈 구하기"
   ]
  },
  {
   "cell_type": "code",
   "execution_count": 81,
   "id": "1a0d98d6",
   "metadata": {},
   "outputs": [
    {
     "name": "stdout",
     "output_type": "stream",
     "text": [
      "7\n"
     ]
    }
   ],
   "source": [
    "arr = [1,2,3,4,5,6,7]\n",
    "print(len(arr))"
   ]
  },
  {
   "cell_type": "markdown",
   "id": "6919b128",
   "metadata": {},
   "source": [
    "##  배열 회전 프로그램"
   ]
  },
  {
   "cell_type": "markdown",
   "id": "2fe59049",
   "metadata": {},
   "source": [
    "### 기본적인 회전 알고리즘 구현(반복문)"
   ]
  },
  {
   "cell_type": "code",
   "execution_count": 131,
   "id": "49a69bca",
   "metadata": {},
   "outputs": [],
   "source": [
    "def rotation(lst,num) : #함수rotation(배열,회전구간)\n",
    "    n = len(lst)  #배열의 길이\n",
    "    num = num%n   #회전 구간은 회전 구간을 길이로 나눈 나머지 (구간이 배열길이 초과하는 것을 방지)\n",
    "    temp = lst[:num] #회전 구간 -1 범위까지를 temp에 저장 \n",
    "    for i in range(n) : #배열을 순회하며 \n",
    "        if i+num <n :   #현재 index+구간이 리스트 길이보다 작으면 \n",
    "            lst[i] = lst[i+num] #리스트의 인덱스자리에 인덱스 + 구간을 한 자리의 값을 넣음\n",
    "        else : #리스트의 길이를 초과하면\n",
    "            lst[i] = temp[i-n] #temp리스트에서 i-n 인덱스에 있는 값을 적용\n",
    "      \n",
    "    return lst"
   ]
  },
  {
   "cell_type": "code",
   "execution_count": 132,
   "id": "c732b718",
   "metadata": {},
   "outputs": [
    {
     "name": "stdout",
     "output_type": "stream",
     "text": [
      "[2, 3, 4, 5, 6, 7, 1]\n"
     ]
    }
   ],
   "source": [
    "arr = [1,2,3,4,5,6,7]\n",
    "print(rotation(arr,1))"
   ]
  },
  {
   "cell_type": "code",
   "execution_count": 133,
   "id": "8587f650",
   "metadata": {},
   "outputs": [
    {
     "name": "stdout",
     "output_type": "stream",
     "text": [
      "[3, 4, 5, 6, 7, 1, 2]\n"
     ]
    }
   ],
   "source": [
    "arr = [1,2,3,4,5,6,7]\n",
    "print(rotation(arr,2))"
   ]
  },
  {
   "cell_type": "code",
   "execution_count": 134,
   "id": "e146e434",
   "metadata": {},
   "outputs": [
    {
     "name": "stdout",
     "output_type": "stream",
     "text": [
      "[4, 5, 6, 7, 1, 2, 3]\n"
     ]
    }
   ],
   "source": [
    "arr = [1,2,3,4,5,6,7]\n",
    "print(rotation(arr,3))"
   ]
  },
  {
   "cell_type": "code",
   "execution_count": 135,
   "id": "61958808",
   "metadata": {},
   "outputs": [
    {
     "name": "stdout",
     "output_type": "stream",
     "text": [
      "[3, 4, 5, 6, 7, 1, 2]\n"
     ]
    }
   ],
   "source": [
    "arr = [1,2,3,4,5,6,7]\n",
    "print(rotation(arr,9))"
   ]
  },
  {
   "cell_type": "code",
   "execution_count": 140,
   "id": "1e67ba37",
   "metadata": {},
   "outputs": [],
   "source": [
    "def rotation(lst,num) : #함수rotation(배열,회전구간)\n",
    "    n = len(lst)  #배열의 길이\n",
    "    num = num%n   #회전 구간은 회전 구간을 길이로 나눈 나머지 (구간이 배열길이 초과하는 것을 방지)\n",
    "    temp = lst[:num] #회전 구간 -1 범위까지를 temp에 저장 \n",
    "    new_arr = [0]*n\n",
    "    for i in range(n) : #배열을 순회하며 \n",
    "        new_arr[(i+num)%n] = lst[i]\n",
    "    return new_arr"
   ]
  },
  {
   "cell_type": "markdown",
   "id": "e29cfb32",
   "metadata": {},
   "source": [
    "### 기본적인 회전 알고리즘 구현(슬라이싱)"
   ]
  },
  {
   "cell_type": "code",
   "execution_count": 105,
   "id": "0fcacf57",
   "metadata": {},
   "outputs": [],
   "source": [
    "def rotation2(lst,num) : #함수rotation(배열,회전구간)\n",
    "    n = len(lst)  #배열의 길이\n",
    "    num = num%n   #회전 구간은 회전 구간을 길이로 나눈 나머지 (구간이 배열길이 초과하는 것을 방지)\n",
    "    right = lst[:num] #오른쪽에 들어갈 값은 처음부터 구간-1까지\n",
    "    left = lst[num:] #왼쪽에 들어갈 값은 구간부터 끝까지\n",
    "    lst  = left + right\n",
    "      \n",
    "    return lst"
   ]
  },
  {
   "cell_type": "code",
   "execution_count": 129,
   "id": "c4acc3cb",
   "metadata": {},
   "outputs": [
    {
     "name": "stdout",
     "output_type": "stream",
     "text": [
      "[2, 3, 4, 5, 1]\n"
     ]
    }
   ],
   "source": [
    "arr = [1,2,3,4,5]\n",
    "print(rotation2(arr,1))"
   ]
  },
  {
   "cell_type": "code",
   "execution_count": 130,
   "id": "b4534940",
   "metadata": {},
   "outputs": [
    {
     "name": "stdout",
     "output_type": "stream",
     "text": [
      "[5, 6, 7, 8, 9, 3, 4]\n"
     ]
    }
   ],
   "source": [
    "arr = [3,4,5,6,7,8,9]\n",
    "print(rotation2(arr,2))"
   ]
  },
  {
   "cell_type": "markdown",
   "id": "67af0bed",
   "metadata": {},
   "source": [
    "### 저글링 알고리즘"
   ]
  },
  {
   "cell_type": "code",
   "execution_count": 10,
   "id": "b070bfb5",
   "metadata": {},
   "outputs": [],
   "source": [
    "def gcd(k,n) :\n",
    "    for i in range(k,0,-1) :\n",
    "        if a%i ==0 and b%i == 0 :\n",
    "            return i"
   ]
  },
  {
   "cell_type": "code",
   "execution_count": 11,
   "id": "fd44cae6",
   "metadata": {},
   "outputs": [],
   "source": [
    "def Juggling(lst,num) :\n",
    "    n = len(lst) \n",
    "    print(lst)\n",
    "    for last in range(num) : #구간의 길이만큼 순회하며\n",
    "        start = n-num + last  #시작점은 마지막 집합의 원소\n",
    "        T = lst[start]        #첫번째 집합에 대치할 값을 T로 저장 \n",
    "        s = start             \n",
    "        \n",
    "        while s-num >= 0 :  #순환하는 값 - 구간이 0보다 크면 \n",
    "            lst[s] = lst[s-num] # 리스트에서 시작값의 자리를 시작값 - 구간으로 대체\n",
    "            s -= num            #시작점을 시작점- 구간으로 갱신 \n",
    "        lst[last] = T           #첫번째 집합의 자리를 T로 대체 \n",
    "        print(lst)\n",
    "    return lst"
   ]
  },
  {
   "cell_type": "code",
   "execution_count": 12,
   "id": "c46f03c3",
   "metadata": {},
   "outputs": [
    {
     "name": "stdout",
     "output_type": "stream",
     "text": [
      "[1, 2, 3, 4, 5, 6, 7, 8, 9]\n",
      "[7, 2, 3, 1, 5, 6, 4, 8, 9]\n",
      "[7, 8, 3, 1, 2, 6, 4, 5, 9]\n",
      "[7, 8, 9, 1, 2, 3, 4, 5, 6]\n",
      "[7, 8, 9, 1, 2, 3, 4, 5, 6]\n"
     ]
    }
   ],
   "source": [
    "arr = [1,2,3,4,5,6,7,8,9]\n",
    "print(Juggling(arr,3))"
   ]
  },
  {
   "cell_type": "markdown",
   "id": "b1ddb759",
   "metadata": {},
   "source": [
    "### 역전 알고리즘"
   ]
  },
  {
   "cell_type": "code",
   "execution_count": 13,
   "id": "ecc831d8",
   "metadata": {},
   "outputs": [],
   "source": [
    "def reverse(lst) :\n",
    "    new_arr = [] #새로운 배열 빈 리스트로 만들기\n",
    "    n = len(lst) #n은 배열의 길이\n",
    "    for i in range(n) : #배열의 있는 숫자를 거꾸로 담기\n",
    "        new_arr.append(lst[n-1-i])\n",
    "    return new_arr\n",
    "def reversearr(lst,num):\n",
    "    n = len(lst) \n",
    "    right,left = [],[] #오른쪽과 왼쪽 배열 \n",
    "    for i in range(n-num) : #구간을 나눌 기준에 따라 왼쪽 리스트에 첫번째 구간에 n-num-1까지 넣고\n",
    "        left.append(lst[i])\n",
    "    for i in range(n-num,n) : #right에 나머지를 넣는다.\n",
    "        right.append(lst[i])\n",
    "    left_a = reverse(left) #왼쪽 리스트 뒤집기 \n",
    "    right_a = reverse(right) #오른쪽 리스트 뒤집기 \n",
    "    return reverse(left_a+right_a) #리스트를 합친다. "
   ]
  },
  {
   "cell_type": "code",
   "execution_count": 14,
   "id": "e5e83433",
   "metadata": {},
   "outputs": [
    {
     "name": "stdout",
     "output_type": "stream",
     "text": [
      "[3, 4, 5, 6, 7, 8, 9, 1, 2]\n"
     ]
    }
   ],
   "source": [
    "arr = [1,2,3,4,5,6,7,8,9]\n",
    "print(reversearr(arr,7))"
   ]
  },
  {
   "cell_type": "markdown",
   "id": "1bd2388b",
   "metadata": {},
   "source": [
    "## 배열의 특정 최대 합 구하기"
   ]
  },
  {
   "cell_type": "code",
   "execution_count": 20,
   "id": "26076b8c",
   "metadata": {},
   "outputs": [
    {
     "name": "stdout",
     "output_type": "stream",
     "text": [
      "[1, 2, 3, 4, 5, 6, 7, 8, 9]240\n",
      "[9, 1, 2, 3, 4, 5, 6, 7, 8]204\n",
      "[8, 9, 1, 2, 3, 4, 5, 6, 7]177\n",
      "[7, 8, 9, 1, 2, 3, 4, 5, 6]159\n",
      "[6, 7, 8, 9, 1, 2, 3, 4, 5]150\n",
      "[5, 6, 7, 8, 9, 1, 2, 3, 4]150\n",
      "[4, 5, 6, 7, 8, 9, 1, 2, 3]159\n",
      "[3, 4, 5, 6, 7, 8, 9, 1, 2]177\n",
      "[2, 3, 4, 5, 6, 7, 8, 9, 1]204\n",
      "240 0\n"
     ]
    }
   ],
   "source": [
    "arr = [1,2,3,4,5,6,7,8,9]\n",
    "\n",
    "my_max = 0\n",
    "my_idx = 0\n",
    "for x in range(len(arr)):\n",
    "    new_arr = reversearr(arr,x)\n",
    "    print(new_arr,end='')\n",
    "    tmp = 0\n",
    "    for i in range(len(arr)) :\n",
    "        tmp += i*new_arr[i]\n",
    "    if tmp >my_max :\n",
    "        my_max = tmp\n",
    "        my_idx = x\n",
    "    print(tmp)\n",
    "print(my_max,my_idx)"
   ]
  },
  {
   "cell_type": "markdown",
   "id": "0ffe090e",
   "metadata": {},
   "source": [
    "## 특정 배열을 arr[i] = i로 재배열하기"
   ]
  },
  {
   "cell_type": "code",
   "execution_count": 21,
   "id": "5e01568c",
   "metadata": {},
   "outputs": [
    {
     "name": "stdout",
     "output_type": "stream",
     "text": [
      "[-1, -1, -1, -1, -1, -1, -1, -1, -1, -1]\n",
      "[-1, 1, 2, 3, 4, -1, 6, -1, -1, 9]\n"
     ]
    }
   ],
   "source": [
    "arr = [-1,-1,6,1,9,3,2,-1,4,-1] \n",
    "\n",
    "new_arr = [-1]*len(arr)\n",
    "print(new_arr)\n",
    "for i in arr : \n",
    "    if 0<=i<len(arr) :\n",
    "        new_arr[i] = i\n",
    "print(new_arr)"
   ]
  },
  {
   "cell_type": "code",
   "execution_count": 22,
   "id": "43e2b764",
   "metadata": {},
   "outputs": [],
   "source": [
    "arr = {19, 7, 0, 3, 18, 15, 12, 6, 1, 8,11, 10, 9, 5, 13, 16, 2, 14, 17, 4}"
   ]
  },
  {
   "cell_type": "code",
   "execution_count": 23,
   "id": "0854e0ab",
   "metadata": {},
   "outputs": [
    {
     "name": "stdout",
     "output_type": "stream",
     "text": [
      "[0, 1, 2, 3, 4, 5, 6, 7, 8, 9, 10, 11, 12, 13, 14, 15, 16, 17, 18, 19]\n"
     ]
    }
   ],
   "source": [
    "new_arr = [-1]*len(arr)\n",
    "for i in arr : \n",
    "    if 0<=i<len(arr) :\n",
    "        new_arr[i] = i\n",
    "print(new_arr)"
   ]
  },
  {
   "cell_type": "code",
   "execution_count": null,
   "id": "da2ffe90",
   "metadata": {},
   "outputs": [],
   "source": []
  }
 ],
 "metadata": {
  "kernelspec": {
   "display_name": "Python 3 (ipykernel)",
   "language": "python",
   "name": "python3"
  },
  "language_info": {
   "codemirror_mode": {
    "name": "ipython",
    "version": 3
   },
   "file_extension": ".py",
   "mimetype": "text/x-python",
   "name": "python",
   "nbconvert_exporter": "python",
   "pygments_lexer": "ipython3",
   "version": "3.9.9"
  },
  "toc": {
   "base_numbering": 1,
   "nav_menu": {},
   "number_sections": true,
   "sideBar": true,
   "skip_h1_title": false,
   "title_cell": "Table of Contents",
   "title_sidebar": "Contents",
   "toc_cell": false,
   "toc_position": {},
   "toc_section_display": true,
   "toc_window_display": false
  }
 },
 "nbformat": 4,
 "nbformat_minor": 5
}
