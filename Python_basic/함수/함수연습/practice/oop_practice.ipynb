{
 "cells": [
  {
   "cell_type": "code",
   "execution_count": 11,
   "id": "2a6285db",
   "metadata": {},
   "outputs": [],
   "source": [
    "class SSAFY :\n",
    "    ki = 7 \n",
    "    \n",
    "    def hello(self) :\n",
    "        print('럭키 7기')\n",
    "    "
   ]
  },
  {
   "cell_type": "code",
   "execution_count": 19,
   "id": "fe287d60",
   "metadata": {},
   "outputs": [],
   "source": [
    "class Daejoen3(SSAFY) :\n",
    "    pass "
   ]
  },
  {
   "cell_type": "code",
   "execution_count": 20,
   "id": "931ac8ee",
   "metadata": {},
   "outputs": [],
   "source": [
    "kang = Daejoen3()"
   ]
  },
  {
   "cell_type": "code",
   "execution_count": 21,
   "id": "18581524",
   "metadata": {},
   "outputs": [
    {
     "name": "stdout",
     "output_type": "stream",
     "text": [
      "럭키 7기\n"
     ]
    }
   ],
   "source": [
    "kang.hello()"
   ]
  },
  {
   "cell_type": "code",
   "execution_count": 35,
   "id": "e0493400",
   "metadata": {},
   "outputs": [],
   "source": [
    "class Daejoen3(SSAFY) :\n",
    "    \n",
    "    def hello(self) :\n",
    "        super().hello()\n",
    "        print('대전3반!')"
   ]
  },
  {
   "cell_type": "code",
   "execution_count": 36,
   "id": "5b8ee04a",
   "metadata": {},
   "outputs": [],
   "source": [
    "kang = Daejoen3()"
   ]
  },
  {
   "cell_type": "code",
   "execution_count": 37,
   "id": "1b51e54e",
   "metadata": {},
   "outputs": [
    {
     "name": "stdout",
     "output_type": "stream",
     "text": [
      "럭키 7기\n",
      "대전3반!\n"
     ]
    }
   ],
   "source": [
    "kang.hello()"
   ]
  },
  {
   "cell_type": "code",
   "execution_count": 39,
   "id": "19b02248",
   "metadata": {},
   "outputs": [],
   "source": [
    "class kang :\n",
    "    ki = 50"
   ]
  },
  {
   "cell_type": "code",
   "execution_count": 40,
   "id": "fe11ca71",
   "metadata": {},
   "outputs": [],
   "source": [
    "class Daejeon3(kang,SSAFY) :\n",
    "    \n",
    "    def hello(Self) :\n",
    "        super().hello()\n",
    "        print('대전 3반!')"
   ]
  },
  {
   "cell_type": "code",
   "execution_count": 41,
   "id": "6cd8dfb5",
   "metadata": {},
   "outputs": [],
   "source": [
    "kang = Daejeon3()"
   ]
  },
  {
   "cell_type": "code",
   "execution_count": 42,
   "id": "b3576a16",
   "metadata": {},
   "outputs": [
    {
     "data": {
      "text/plain": [
       "50"
      ]
     },
     "execution_count": 42,
     "metadata": {},
     "output_type": "execute_result"
    }
   ],
   "source": [
    "kang.ki"
   ]
  },
  {
   "cell_type": "code",
   "execution_count": null,
   "id": "29dce99d",
   "metadata": {},
   "outputs": [],
   "source": []
  }
 ],
 "metadata": {
  "kernelspec": {
   "display_name": "Python 3 (ipykernel)",
   "language": "python",
   "name": "python3"
  },
  "language_info": {
   "codemirror_mode": {
    "name": "ipython",
    "version": 3
   },
   "file_extension": ".py",
   "mimetype": "text/x-python",
   "name": "python",
   "nbconvert_exporter": "python",
   "pygments_lexer": "ipython3",
   "version": "3.9.9"
  },
  "toc": {
   "base_numbering": 1,
   "nav_menu": {},
   "number_sections": true,
   "sideBar": true,
   "skip_h1_title": false,
   "title_cell": "Table of Contents",
   "title_sidebar": "Contents",
   "toc_cell": false,
   "toc_position": {},
   "toc_section_display": true,
   "toc_window_display": false
  }
 },
 "nbformat": 4,
 "nbformat_minor": 5
}
