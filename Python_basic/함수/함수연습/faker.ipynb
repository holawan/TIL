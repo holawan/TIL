{
 "cells": [
  {
   "cell_type": "code",
   "execution_count": 79,
   "id": "93b80a5f",
   "metadata": {},
   "outputs": [],
   "source": [
    "from fibo import fibo_recursion as recursion"
   ]
  },
  {
   "cell_type": "code",
   "execution_count": 80,
   "id": "7a8d561a",
   "metadata": {},
   "outputs": [
    {
     "data": {
      "text/plain": [
       "3"
      ]
     },
     "execution_count": 80,
     "metadata": {},
     "output_type": "execute_result"
    }
   ],
   "source": [
    "recursion(4)"
   ]
  },
  {
   "cell_type": "code",
   "execution_count": 81,
   "id": "8ac659cb",
   "metadata": {},
   "outputs": [],
   "source": [
    "from faker import Faker"
   ]
  },
  {
   "cell_type": "code",
   "execution_count": 82,
   "id": "729b1468",
   "metadata": {},
   "outputs": [],
   "source": [
    "fake = Faker()"
   ]
  },
  {
   "cell_type": "code",
   "execution_count": 83,
   "id": "93d927d2",
   "metadata": {},
   "outputs": [
    {
     "data": {
      "text/plain": [
       "'Jessica Hendricks'"
      ]
     },
     "execution_count": 83,
     "metadata": {},
     "output_type": "execute_result"
    }
   ],
   "source": [
    "fake.name()"
   ]
  },
  {
   "cell_type": "code",
   "execution_count": 84,
   "id": "dd092d42",
   "metadata": {},
   "outputs": [],
   "source": [
    "fake_ko = Faker('ko_KR')"
   ]
  },
  {
   "cell_type": "code",
   "execution_count": 85,
   "id": "553a5a5c",
   "metadata": {},
   "outputs": [
    {
     "data": {
      "text/plain": [
       "'김민재'"
      ]
     },
     "execution_count": 85,
     "metadata": {},
     "output_type": "execute_result"
    }
   ],
   "source": [
    "fake_ko.name()"
   ]
  },
  {
   "cell_type": "code",
   "execution_count": 86,
   "id": "442ca3da",
   "metadata": {},
   "outputs": [
    {
     "name": "stdout",
     "output_type": "stream",
     "text": [
      "Help on class Faker in module faker.proxy:\n",
      "\n",
      "class Faker(builtins.object)\n",
      " |  Faker(locale: Union[str, Sequence[str], Dict[str, Union[int, float]], NoneType] = None, providers: Optional[List[str]] = None, generator: Optional[faker.generator.Generator] = None, includes: Optional[List[str]] = None, use_weighting: bool = True, **config: Any) -> None\n",
      " |  \n",
      " |  Proxy class capable of supporting multiple locales\n",
      " |  \n",
      " |  Methods defined here:\n",
      " |  \n",
      " |  __deepcopy__(self, memodict: Dict = {}) -> 'Faker'\n",
      " |  \n",
      " |  __dir__(self)\n",
      " |      Default dir() implementation.\n",
      " |  \n",
      " |  __getattr__(self, attr: str) -> Any\n",
      " |      Handles cache access and proxying behavior\n",
      " |      \n",
      " |      :param attr: attribute name\n",
      " |      :return: the appropriate attribute\n",
      " |  \n",
      " |  __getattribute__(self, attr: str) -> Any\n",
      " |      Handles the \"attribute resolution\" behavior for declared members of this proxy class\n",
      " |      \n",
      " |      The class method `seed` cannot be called from an instance.\n",
      " |      \n",
      " |      :param attr: attribute name\n",
      " |      :return: the appropriate attribute\n",
      " |  \n",
      " |  __getitem__(self, locale: str) -> faker.generator.Generator\n",
      " |  \n",
      " |  __init__(self, locale: Union[str, Sequence[str], Dict[str, Union[int, float]], NoneType] = None, providers: Optional[List[str]] = None, generator: Optional[faker.generator.Generator] = None, includes: Optional[List[str]] = None, use_weighting: bool = True, **config: Any) -> None\n",
      " |      Initialize self.  See help(type(self)) for accurate signature.\n",
      " |  \n",
      " |  __setstate__(self, state: Any) -> None\n",
      " |  \n",
      " |  items(self) -> List[Tuple[str, faker.generator.Generator]]\n",
      " |  \n",
      " |  seed_instance(self, seed: Optional[Hashable] = None) -> None\n",
      " |      Creates and seeds a new `random.Random` object for each factory\n",
      " |      \n",
      " |      :param seed: seed value\n",
      " |  \n",
      " |  seed_locale(self, locale: str, seed: Optional[Hashable] = None) -> None\n",
      " |      Creates and seeds a new `random.Random` object for the factory of the specified locale\n",
      " |      \n",
      " |      :param locale: locale string\n",
      " |      :param seed: seed value\n",
      " |  \n",
      " |  ----------------------------------------------------------------------\n",
      " |  Class methods defined here:\n",
      " |  \n",
      " |  seed(seed: Optional[Hashable] = None) -> None from builtins.type\n",
      " |      Hashables the shared `random.Random` object across all factories\n",
      " |      \n",
      " |      :param seed: seed value\n",
      " |  \n",
      " |  ----------------------------------------------------------------------\n",
      " |  Readonly properties defined here:\n",
      " |  \n",
      " |  factories\n",
      " |  \n",
      " |  locales\n",
      " |  \n",
      " |  unique\n",
      " |  \n",
      " |  weights\n",
      " |  \n",
      " |  ----------------------------------------------------------------------\n",
      " |  Data descriptors defined here:\n",
      " |  \n",
      " |  __dict__\n",
      " |      dictionary for instance variables (if defined)\n",
      " |  \n",
      " |  __weakref__\n",
      " |      list of weak references to the object (if defined)\n",
      " |  \n",
      " |  random\n",
      " |      Proxies `random` getter calls\n",
      " |      \n",
      " |      In single locale mode, this will be proxied to the `random` getter\n",
      " |      of the only internal `Generator` object. Subclasses will have to\n",
      " |      implement desired behavior in multiple locale mode.\n",
      " |  \n",
      " |  ----------------------------------------------------------------------\n",
      " |  Data and other attributes defined here:\n",
      " |  \n",
      " |  __annotations__ = {'cache_pattern': typing.Pattern}\n",
      " |  \n",
      " |  cache_pattern = re.compile('^_cached_\\\\w*_mapping$')\n",
      " |  \n",
      " |  generator_attrs = ['_Generator__config', '_Generator__format_token', '...\n",
      "\n"
     ]
    }
   ],
   "source": [
    "help(Faker)"
   ]
  },
  {
   "cell_type": "code",
   "execution_count": 87,
   "id": "c304e5ad",
   "metadata": {},
   "outputs": [],
   "source": [
    "import random\n"
   ]
  },
  {
   "cell_type": "code",
   "execution_count": 88,
   "id": "2c9efe6e",
   "metadata": {},
   "outputs": [
    {
     "data": {
      "text/plain": [
       "0.8170477907294282"
      ]
     },
     "execution_count": 88,
     "metadata": {},
     "output_type": "execute_result"
    }
   ],
   "source": [
    "random.random()"
   ]
  },
  {
   "cell_type": "code",
   "execution_count": 89,
   "id": "c8b10cd9",
   "metadata": {},
   "outputs": [
    {
     "data": {
      "text/plain": [
       "0.5311536664127009"
      ]
     },
     "execution_count": 89,
     "metadata": {},
     "output_type": "execute_result"
    }
   ],
   "source": [
    "random.random()"
   ]
  },
  {
   "cell_type": "code",
   "execution_count": 90,
   "id": "32c508c1",
   "metadata": {},
   "outputs": [
    {
     "data": {
      "text/plain": [
       "0.8170477907294282"
      ]
     },
     "execution_count": 90,
     "metadata": {},
     "output_type": "execute_result"
    }
   ],
   "source": [
    "random.seed(7777)\n",
    "random.random()"
   ]
  },
  {
   "cell_type": "code",
   "execution_count": 91,
   "id": "caea3e7b",
   "metadata": {},
   "outputs": [
    {
     "data": {
      "text/plain": [
       "<function Random.random()>"
      ]
     },
     "execution_count": 91,
     "metadata": {},
     "output_type": "execute_result"
    }
   ],
   "source": [
    "random.seed(7777)\n",
    "random.random"
   ]
  },
  {
   "cell_type": "code",
   "execution_count": 309,
   "id": "f58ba34b",
   "metadata": {},
   "outputs": [
    {
     "name": "stdout",
     "output_type": "stream",
     "text": [
      "이도윤\n",
      "이지후\n"
     ]
    }
   ],
   "source": [
    "fake = Faker('ko_KR')\n",
    "Faker.seed(4321)\n",
    "\n",
    "print(fake.name())\n",
    "\n",
    "fake2 = Faker('ko_KR')\n",
    "print(fake2.name())"
   ]
  },
  {
   "cell_type": "code",
   "execution_count": 310,
   "id": "0a0b148b",
   "metadata": {},
   "outputs": [
    {
     "name": "stdout",
     "output_type": "stream",
     "text": [
      "이도윤\n",
      "김광수\n"
     ]
    }
   ],
   "source": [
    "fake = Faker('ko_KR')\n",
    "fake.seed_instance(4321)\n",
    "\n",
    "print(fake.name()) #1 \n",
    "\n",
    "fake2 = Faker('ko_KR')\n",
    "print(fake2.name()) #2 "
   ]
  },
  {
   "cell_type": "code",
   "execution_count": null,
   "id": "7cd13efc",
   "metadata": {},
   "outputs": [],
   "source": []
  }
 ],
 "metadata": {
  "kernelspec": {
   "display_name": "Python 3 (ipykernel)",
   "language": "python",
   "name": "python3"
  },
  "language_info": {
   "codemirror_mode": {
    "name": "ipython",
    "version": 3
   },
   "file_extension": ".py",
   "mimetype": "text/x-python",
   "name": "python",
   "nbconvert_exporter": "python",
   "pygments_lexer": "ipython3",
   "version": "3.9.9"
  },
  "toc": {
   "base_numbering": 1,
   "nav_menu": {},
   "number_sections": true,
   "sideBar": true,
   "skip_h1_title": false,
   "title_cell": "Table of Contents",
   "title_sidebar": "Contents",
   "toc_cell": false,
   "toc_position": {},
   "toc_section_display": true,
   "toc_window_display": false
  }
 },
 "nbformat": 4,
 "nbformat_minor": 5
}
