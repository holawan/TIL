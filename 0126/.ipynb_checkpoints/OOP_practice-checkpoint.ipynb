{
 "cells": [
  {
   "cell_type": "markdown",
   "id": "610d481b",
   "metadata": {},
   "source": [
    "# Rectangle"
   ]
  },
  {
   "cell_type": "code",
   "execution_count": 1,
   "id": "04e96c40",
   "metadata": {},
   "outputs": [
    {
     "data": {
      "text/plain": [
       "20000"
      ]
     },
     "execution_count": 1,
     "metadata": {},
     "output_type": "execute_result"
    }
   ],
   "source": [
    "x_01 = 100\n",
    "y_01 = 200\n",
    "area_01 = x_01 * y_01\n",
    "area_01"
   ]
  },
  {
   "cell_type": "code",
   "execution_count": 2,
   "id": "a2598726",
   "metadata": {},
   "outputs": [
    {
     "name": "stdout",
     "output_type": "stream",
     "text": [
      "100\n"
     ]
    }
   ],
   "source": [
    "x_02 = 10\n",
    "y_02 = 10\n",
    "\n",
    "area_02 = x_02 * y_02 \n",
    "print(area_02)"
   ]
  },
  {
   "cell_type": "code",
   "execution_count": 3,
   "id": "4bce3135",
   "metadata": {},
   "outputs": [],
   "source": [
    "#함수 \n",
    "def area(x,y) :\n",
    "    return x * y "
   ]
  },
  {
   "cell_type": "code",
   "execution_count": 4,
   "id": "4cf9f9d8",
   "metadata": {},
   "outputs": [
    {
     "name": "stdout",
     "output_type": "stream",
     "text": [
      "20000\n"
     ]
    }
   ],
   "source": [
    "print(area(x_01,y_01))\n",
    "print(area(x_02,y_02))"
   ]
  },
  {
   "cell_type": "code",
   "execution_count": 15,
   "id": "b418a55d",
   "metadata": {},
   "outputs": [],
   "source": [
    "#객체\n",
    "class Rectangle :\n",
    "    \n",
    "    def area(self) :\n",
    "        return self.x * self.y"
   ]
  },
  {
   "cell_type": "code",
   "execution_count": 16,
   "id": "b8fff658",
   "metadata": {},
   "outputs": [],
   "source": [
    "r1 = Rectangle()\n",
    "r1.x,r1.y = 100, 200"
   ]
  },
  {
   "cell_type": "code",
   "execution_count": 17,
   "id": "5dd7cd46",
   "metadata": {},
   "outputs": [
    {
     "data": {
      "text/plain": [
       "20000"
      ]
     },
     "execution_count": 17,
     "metadata": {},
     "output_type": "execute_result"
    }
   ],
   "source": [
    "r1.area()"
   ]
  },
  {
   "cell_type": "code",
   "execution_count": 50,
   "id": "28c11a25",
   "metadata": {},
   "outputs": [
    {
     "ename": "TypeError",
     "evalue": "test() takes 0 positional arguments but 1 was given",
     "output_type": "error",
     "traceback": [
      "\u001b[1;31m---------------------------------------------------------------------------\u001b[0m",
      "\u001b[1;31mTypeError\u001b[0m                                 Traceback (most recent call last)",
      "Input \u001b[1;32mIn [50]\u001b[0m, in \u001b[0;36m<module>\u001b[1;34m\u001b[0m\n\u001b[0;32m      5\u001b[0m \u001b[38;5;66;03m# 인스턴스 생성 (p1 )\u001b[39;00m\n\u001b[0;32m      6\u001b[0m p1 \u001b[38;5;241m=\u001b[39m Person()\n\u001b[1;32m----> 9\u001b[0m \u001b[43mp1\u001b[49m\u001b[38;5;241;43m.\u001b[39;49m\u001b[43mtest\u001b[49m\u001b[43m(\u001b[49m\u001b[43m)\u001b[49m\n",
      "\u001b[1;31mTypeError\u001b[0m: test() takes 0 positional arguments but 1 was given"
     ]
    }
   ],
   "source": [
    "class Person :\n",
    "    #인스턴스 메서드는 python 내부적으로 person.test(p1)    \n",
    "    def test() :\n",
    "        return 'test'\n",
    "# 인스턴스 생성 (p1 )\n",
    "p1 = Person()\n",
    "\n",
    "\n",
    "p1.test()\n",
    "#test() takes 0 positional arguments but 1 was given"
   ]
  },
  {
   "cell_type": "code",
   "execution_count": 48,
   "id": "d0f2ceac",
   "metadata": {},
   "outputs": [],
   "source": [
    "class Daejeon3 :\n",
    "    ban = '대전3반'\n",
    "    \n",
    "    \n",
    "    def __init__(self,name,age,ban) : #클래스 만들자마자 실행 \n",
    "        self.name = name \n",
    "        self.age = 20\n",
    "        self.ban = ban\n",
    "        print(f'안녕 ! 난 {self.ban}이야 ! ')\n",
    "        \n",
    "        \n",
    "    def hi(self) :\n",
    "        print(f'hi, 나는 {self.name}이야!!{self.age}살이야')\n",
    "        \n",
    "        \n",
    "    @classmethod\n",
    "    def class_method(cls) :\n",
    "        print(cls.ban)\n",
    "        \n",
    "        \n",
    "    def instance_method(self):\n",
    "        print(self.ban)\n",
    "        "
   ]
  },
  {
   "cell_type": "code",
   "execution_count": 49,
   "id": "d084d1fa",
   "metadata": {},
   "outputs": [
    {
     "name": "stdout",
     "output_type": "stream",
     "text": [
      "안녕 ! 난 몰라이야 ! \n",
      "wan,\n",
      "hi, 나는 wan,이야!!20살이야\n",
      "대전3반\n",
      "몰라\n"
     ]
    }
   ],
   "source": [
    "wan = Daejeon3('wan,',30,'몰라')\n",
    "print(wan.name)\n",
    "wan.hi()\n",
    "wan.ban\n",
    "wan.class_method()\n",
    "wan.instance_method()"
   ]
  },
  {
   "cell_type": "code",
   "execution_count": 26,
   "id": "0353daf5",
   "metadata": {},
   "outputs": [
    {
     "name": "stdout",
     "output_type": "stream",
     "text": [
      "안녕 ! 난 대전 3반이야 !  대전3반\n"
     ]
    }
   ],
   "source": [
    "kang = Daejeon3('kang', 19)"
   ]
  },
  {
   "cell_type": "code",
   "execution_count": 24,
   "id": "c81b9730",
   "metadata": {},
   "outputs": [
    {
     "data": {
      "text/plain": [
       "'대전3반'"
      ]
     },
     "execution_count": 24,
     "metadata": {},
     "output_type": "execute_result"
    }
   ],
   "source": [
    "kang.ban"
   ]
  },
  {
   "cell_type": "code",
   "execution_count": 6,
   "id": "800e70e1",
   "metadata": {},
   "outputs": [
    {
     "data": {
      "text/plain": [
       "<bound method Daejeon3.hi of <__main__.Daejeon3 object at 0x0000018C05693790>>"
      ]
     },
     "execution_count": 6,
     "metadata": {},
     "output_type": "execute_result"
    }
   ],
   "source": [
    "wan.hi"
   ]
  },
  {
   "cell_type": "code",
   "execution_count": null,
   "id": "a07b8fa4",
   "metadata": {},
   "outputs": [],
   "source": []
  },
  {
   "cell_type": "code",
   "execution_count": null,
   "id": "12112901",
   "metadata": {},
   "outputs": [],
   "source": []
  },
  {
   "cell_type": "code",
   "execution_count": null,
   "id": "ce31beeb",
   "metadata": {},
   "outputs": [],
   "source": []
  },
  {
   "cell_type": "code",
   "execution_count": 25,
   "id": "ecda49cf",
   "metadata": {},
   "outputs": [
    {
     "name": "stdout",
     "output_type": "stream",
     "text": [
      "<__main__.Person object at 0x0000024282354A60>\n",
      "<__main__.Person object at 0x0000024282354A60> <__main__.Person object at 0x0000024282354A60>\n"
     ]
    }
   ],
   "source": [
    "class Person :\n",
    "    #인스턴스 메서드는 python 내부적으로 person.test(p1)    \n",
    "    def test(self) :\n",
    "        return self\n",
    "# 인스턴스 생성 (p1 )\n",
    "p1 = Person()\n",
    "\n",
    "\n",
    "p1.test()\n",
    "#test() takes 0 positional arguments but 1 was given\n",
    "s = p1.test()\n",
    "print(s)\n",
    "print(s,p1)\n",
    "#test <__main__.Person object at 0x000001BBFA44B670>"
   ]
  },
  {
   "cell_type": "code",
   "execution_count": 26,
   "id": "03b3d241",
   "metadata": {},
   "outputs": [
    {
     "data": {
      "text/plain": [
       "<__main__.Person at 0x24282354a60>"
      ]
     },
     "execution_count": 26,
     "metadata": {},
     "output_type": "execute_result"
    }
   ],
   "source": [
    "p1"
   ]
  },
  {
   "cell_type": "code",
   "execution_count": 27,
   "id": "48f6c716",
   "metadata": {},
   "outputs": [
    {
     "data": {
      "text/plain": [
       "<__main__.Person at 0x24282354a60>"
      ]
     },
     "execution_count": 27,
     "metadata": {},
     "output_type": "execute_result"
    }
   ],
   "source": [
    "Person.test(p1) #내부적으로는 이렇게 실행 "
   ]
  },
  {
   "cell_type": "code",
   "execution_count": 30,
   "id": "9e27bf3c",
   "metadata": {},
   "outputs": [
    {
     "name": "stdout",
     "output_type": "stream",
     "text": [
      "응애\n"
     ]
    }
   ],
   "source": [
    "class Person :\n",
    "    #인스턴스 메서드는 python 내부적으로 person.test(p1)    \n",
    "    def __init__(self) :\n",
    "        print('응애')\n",
    "# 인스턴스 생성 (p1 )\n",
    "p1 = Person()"
   ]
  },
  {
   "cell_type": "code",
   "execution_count": 31,
   "id": "9e3785ec",
   "metadata": {},
   "outputs": [
    {
     "name": "stdout",
     "output_type": "stream",
     "text": [
      "응애\n"
     ]
    }
   ],
   "source": [
    "p2 = Person()"
   ]
  },
  {
   "cell_type": "code",
   "execution_count": 43,
   "id": "dd86d5dd",
   "metadata": {},
   "outputs": [
    {
     "ename": "TypeError",
     "evalue": "__init__() missing 2 required positional arguments: 'name' and 'age'",
     "output_type": "error",
     "traceback": [
      "\u001b[1;31m---------------------------------------------------------------------------\u001b[0m",
      "\u001b[1;31mTypeError\u001b[0m                                 Traceback (most recent call last)",
      "Input \u001b[1;32mIn [43]\u001b[0m, in \u001b[0;36m<module>\u001b[1;34m\u001b[0m\n\u001b[0;32m      6\u001b[0m         \u001b[38;5;28mself\u001b[39m\u001b[38;5;241m.\u001b[39mage \u001b[38;5;241m=\u001b[39m age\n\u001b[0;32m      7\u001b[0m         \u001b[38;5;66;03m## Person() 인스턴스를 만들면 __init__메서드가 호출됩니다. \u001b[39;00m\n\u001b[0;32m      8\u001b[0m \u001b[38;5;66;03m# 인스턴스 생성 (p1 )\u001b[39;00m\n\u001b[1;32m----> 9\u001b[0m p1 \u001b[38;5;241m=\u001b[39m \u001b[43mPerson\u001b[49m\u001b[43m(\u001b[49m\u001b[43m)\u001b[49m\n",
      "\u001b[1;31mTypeError\u001b[0m: __init__() missing 2 required positional arguments: 'name' and 'age'"
     ]
    }
   ],
   "source": [
    "class Person :\n",
    "    #인스턴스 메서드는 python 내부적으로 person.test(p1)    \n",
    "    def __init__(self,name,age) :\n",
    "        # 인스턴스 변수를 정의하기 위해 사용\n",
    "        self.name = name\n",
    "        self.age = age\n",
    "        ## Person() 인스턴스를 만들면 __init__메서드가 호출됩니다. \n",
    "# 인스턴스 생성 (p1 )\n",
    "p1 = Person()"
   ]
  },
  {
   "cell_type": "code",
   "execution_count": 44,
   "id": "a59c69ec",
   "metadata": {},
   "outputs": [],
   "source": [
    "young = Person('영택', 100)                                                                                                                             "
   ]
  },
  {
   "cell_type": "code",
   "execution_count": 45,
   "id": "c977ffcd",
   "metadata": {},
   "outputs": [
    {
     "name": "stdout",
     "output_type": "stream",
     "text": [
      "영택 100\n"
     ]
    }
   ],
   "source": [
    "print(young.name,young.age)"
   ]
  },
  {
   "cell_type": "code",
   "execution_count": 47,
   "id": "e6898a0c",
   "metadata": {},
   "outputs": [],
   "source": [
    "class Person :\n",
    "    #인스턴스 메서드는 python 내부적으로 person.test(p1)    \n",
    "    def __init__(self,name,age =1 ) :\n",
    "        # 인스턴스 변수를 정의하기 위해 사용\n",
    "        self.name = name\n",
    "        self.age = age\n",
    "        ## Person() 인스턴스를 만들면 __init__메서드가 호출됩니다. \n",
    "# 인스턴스 생성 (p1 )"
   ]
  },
  {
   "cell_type": "code",
   "execution_count": 48,
   "id": "286a0b26",
   "metadata": {},
   "outputs": [],
   "source": [
    "jihye = Person('지혜')"
   ]
  },
  {
   "cell_type": "code",
   "execution_count": 49,
   "id": "c1a5b868",
   "metadata": {},
   "outputs": [
    {
     "name": "stdout",
     "output_type": "stream",
     "text": [
      "지혜 1\n"
     ]
    }
   ],
   "source": [
    "print(jihye.name,jihye.age)"
   ]
  },
  {
   "cell_type": "code",
   "execution_count": 50,
   "id": "f40fc11a",
   "metadata": {},
   "outputs": [],
   "source": [
    "hyoeun = Person('효은',999)"
   ]
  },
  {
   "cell_type": "code",
   "execution_count": 53,
   "id": "64f17d81",
   "metadata": {},
   "outputs": [
    {
     "name": "stdout",
     "output_type": "stream",
     "text": [
      "효은 999\n"
     ]
    }
   ],
   "source": [
    "print(hyoeun.name, hyoeun.age)"
   ]
  },
  {
   "cell_type": "code",
   "execution_count": 54,
   "id": "847505da",
   "metadata": {},
   "outputs": [],
   "source": [
    "## 소멸자"
   ]
  },
  {
   "cell_type": "code",
   "execution_count": 55,
   "id": "bdae83d1",
   "metadata": {},
   "outputs": [],
   "source": [
    "class Person :\n",
    "    def __init__(self) :\n",
    "        print('응애')\n",
    "    def __del__(self) :\n",
    "        print('으억...')"
   ]
  },
  {
   "cell_type": "code",
   "execution_count": 57,
   "id": "153768d7",
   "metadata": {},
   "outputs": [
    {
     "name": "stdout",
     "output_type": "stream",
     "text": [
      "응애\n"
     ]
    }
   ],
   "source": [
    "p1 = Person()"
   ]
  },
  {
   "cell_type": "code",
   "execution_count": 59,
   "id": "2c4dd815",
   "metadata": {},
   "outputs": [
    {
     "name": "stdout",
     "output_type": "stream",
     "text": [
      "으억...\n"
     ]
    }
   ],
   "source": [
    "del p1"
   ]
  },
  {
   "cell_type": "markdown",
   "id": "2abde2b2",
   "metadata": {},
   "source": [
    "## 매직 메서드 활용"
   ]
  },
  {
   "cell_type": "code",
   "execution_count": 86,
   "id": "d02bca72",
   "metadata": {},
   "outputs": [],
   "source": [
    "class Person :\n",
    "    def __init__ (self,name,age, height) :\n",
    "        self.name = name\n",
    "        self.age = age\n",
    "        self.height = height \n",
    "    def __gt__(self, other) :\n",
    "        print(f'{self.name} : {self.age} 살/{other.name} : {other.age}살')\n",
    "        return self.age > other.age \n",
    "    def __len__(self) :\n",
    "        return self.height"
   ]
  },
  {
   "cell_type": "code",
   "execution_count": 87,
   "id": "4ab6fd38",
   "metadata": {},
   "outputs": [],
   "source": [
    "p1 =Person('재영', 100, 190)\n",
    "p2 = Person('지선', 10, 185)"
   ]
  },
  {
   "cell_type": "code",
   "execution_count": 88,
   "id": "26b33777",
   "metadata": {},
   "outputs": [
    {
     "name": "stdout",
     "output_type": "stream",
     "text": [
      "재영 : 100 살/지선 : 10살\n"
     ]
    },
    {
     "data": {
      "text/plain": [
       "True"
      ]
     },
     "execution_count": 88,
     "metadata": {},
     "output_type": "execute_result"
    }
   ],
   "source": [
    "p1 > p2"
   ]
  },
  {
   "cell_type": "code",
   "execution_count": 89,
   "id": "259540e7",
   "metadata": {},
   "outputs": [
    {
     "data": {
      "text/plain": [
       "190"
      ]
     },
     "execution_count": 89,
     "metadata": {},
     "output_type": "execute_result"
    }
   ],
   "source": [
    "len(p1)"
   ]
  },
  {
   "cell_type": "code",
   "execution_count": 98,
   "id": "fac0dad0",
   "metadata": {},
   "outputs": [],
   "source": [
    "class Person :\n",
    "    ## __init__은 예외적으로 return x\n",
    "    def __init__ (self,name,age, height) :\n",
    "        self.name = name\n",
    "        self.age = age\n",
    "        self.height = height \n",
    "    def __gt__(self, other) :\n",
    "        print(f'{self.name} : {self.age} 살/{other.name} : {other.age}살')\n",
    "        return self.age > other.age \n",
    "    def __len__(self) :\n",
    "        return self.height\n",
    "    def __str__(self) :\n",
    "        return f'<{self.name}> :{self.age}살'"
   ]
  },
  {
   "cell_type": "code",
   "execution_count": 91,
   "id": "3987c69e",
   "metadata": {},
   "outputs": [],
   "source": [
    "p1 = Person('민준',999,200)"
   ]
  },
  {
   "cell_type": "code",
   "execution_count": 92,
   "id": "a25ccb1d",
   "metadata": {},
   "outputs": [
    {
     "name": "stdout",
     "output_type": "stream",
     "text": [
      "<민준> :999살\n"
     ]
    }
   ],
   "source": [
    "print(p1)"
   ]
  },
  {
   "cell_type": "code",
   "execution_count": 94,
   "id": "a9019c13",
   "metadata": {},
   "outputs": [],
   "source": [
    "a = map(int, '1 2 3'.split())"
   ]
  },
  {
   "cell_type": "code",
   "execution_count": 95,
   "id": "255c4c75",
   "metadata": {},
   "outputs": [
    {
     "data": {
      "text/plain": [
       "<map at 0x242823afb50>"
      ]
     },
     "execution_count": 95,
     "metadata": {},
     "output_type": "execute_result"
    }
   ],
   "source": [
    "a"
   ]
  },
  {
   "cell_type": "code",
   "execution_count": 97,
   "id": "07bcee9b",
   "metadata": {},
   "outputs": [
    {
     "data": {
      "text/plain": [
       "[1, 2, 3]"
      ]
     },
     "execution_count": 97,
     "metadata": {},
     "output_type": "execute_result"
    }
   ],
   "source": [
    "list(a)"
   ]
  },
  {
   "cell_type": "code",
   "execution_count": 99,
   "id": "597010a2",
   "metadata": {},
   "outputs": [
    {
     "data": {
      "text/plain": [
       "['__class__',\n",
       " '__delattr__',\n",
       " '__dict__',\n",
       " '__dir__',\n",
       " '__doc__',\n",
       " '__eq__',\n",
       " '__format__',\n",
       " '__ge__',\n",
       " '__getattribute__',\n",
       " '__gt__',\n",
       " '__hash__',\n",
       " '__init__',\n",
       " '__init_subclass__',\n",
       " '__le__',\n",
       " '__len__',\n",
       " '__lt__',\n",
       " '__module__',\n",
       " '__ne__',\n",
       " '__new__',\n",
       " '__reduce__',\n",
       " '__reduce_ex__',\n",
       " '__repr__',\n",
       " '__setattr__',\n",
       " '__sizeof__',\n",
       " '__str__',\n",
       " '__subclasshook__',\n",
       " '__weakref__',\n",
       " 'age',\n",
       " 'height',\n",
       " 'name']"
      ]
     },
     "execution_count": 99,
     "metadata": {},
     "output_type": "execute_result"
    }
   ],
   "source": [
    "dir(p1)"
   ]
  },
  {
   "cell_type": "markdown",
   "id": "a9a93702",
   "metadata": {},
   "source": [
    "## 클래스 메서드"
   ]
  },
  {
   "cell_type": "code",
   "execution_count": null,
   "id": "9917027b",
   "metadata": {},
   "outputs": [],
   "source": [
    "class"
   ]
  },
  {
   "cell_type": "markdown",
   "id": "24834d3c",
   "metadata": {},
   "source": [
    "## 스태틱 메서드"
   ]
  },
  {
   "cell_type": "code",
   "execution_count": 101,
   "id": "80636035",
   "metadata": {},
   "outputs": [],
   "source": [
    "class MyClass:\n",
    "    var = 'Class 변수'\n",
    "    \n",
    "    @staticmethod \n",
    "    def stsatic_method(static):\n",
    "        return static"
   ]
  },
  {
   "cell_type": "code",
   "execution_count": 106,
   "id": "d11f7b87",
   "metadata": {},
   "outputs": [
    {
     "ename": "TypeError",
     "evalue": "stsatic_method() missing 1 required positional argument: 'static'",
     "output_type": "error",
     "traceback": [
      "\u001b[1;31m---------------------------------------------------------------------------\u001b[0m",
      "\u001b[1;31mTypeError\u001b[0m                                 Traceback (most recent call last)",
      "Input \u001b[1;32mIn [106]\u001b[0m, in \u001b[0;36m<module>\u001b[1;34m\u001b[0m\n\u001b[1;32m----> 1\u001b[0m \u001b[43mMyClass\u001b[49m\u001b[38;5;241;43m.\u001b[39;49m\u001b[43mstsatic_method\u001b[49m\u001b[43m(\u001b[49m\u001b[43m)\u001b[49m\n",
      "\u001b[1;31mTypeError\u001b[0m: stsatic_method() missing 1 required positional argument: 'static'"
     ]
    }
   ],
   "source": [
    "MyClass.stsatic_method()\n",
    "#TypeError: stsatic_method() missing 1 required positional argument: 'static'"
   ]
  },
  {
   "cell_type": "code",
   "execution_count": 114,
   "id": "80f645ed",
   "metadata": {},
   "outputs": [],
   "source": [
    "class MyClass:    \n",
    "    @staticmethod \n",
    "    def stsatic_method():\n",
    "        return 'static'"
   ]
  },
  {
   "cell_type": "code",
   "execution_count": 115,
   "id": "6bc1abb2",
   "metadata": {},
   "outputs": [
    {
     "data": {
      "text/plain": [
       "'static'"
      ]
     },
     "execution_count": 115,
     "metadata": {},
     "output_type": "execute_result"
    }
   ],
   "source": [
    "MyClass.stsatic_method()"
   ]
  },
  {
   "cell_type": "code",
   "execution_count": 116,
   "id": "2e17a351",
   "metadata": {},
   "outputs": [],
   "source": [
    "class MyClass:\n",
    "    \n",
    "    #함수는 기본적으롤 로컬 스코프를 가지고 잇음\n",
    "    #내부에서 활용하고 싶으면 파라미터로 받도록 정의 \n",
    "    \n",
    "    def instance_method(self) : #인스턴스 메서드 : 인스턴스를 조작하고 싶어 \n",
    "        return self             #내부에 인스턴스를 던져주도록 설계\n",
    "                                 #메서드를 정의할 때 self로 받도록 설게 \n",
    "    @staticmethod \n",
    "    def stsatic_method():         #스태틱 메서드 : 클래스나 인스턴스를 조작할 생각은 없는데 함수를 쓸거야 \n",
    "        return 'static'           #파이썬 제작자가 아무것도 하지 않도록 설정 \n",
    "    \n",
    "    @classmethod               # 클래스 메서드 : 클래스를 조작하고 싶어\n",
    "                               #함수 내부에 클래스를 던져주도록 설게 \n",
    "    def class_method(cls) :    #메서드를 정의할 때 cls로 받도록 \n",
    "        print(cls.var)\n",
    "        return cls"
   ]
  },
  {
   "cell_type": "code",
   "execution_count": 117,
   "id": "fc08c224",
   "metadata": {},
   "outputs": [],
   "source": [
    "class Person() :\n",
    "    population = 0 \n",
    "    \n",
    "    @classmethod\n",
    "    \n",
    "    @staticmethod \n",
    "    def static_method() :\n",
    "        return '사람들임'"
   ]
  },
  {
   "cell_type": "code",
   "execution_count": 118,
   "id": "216d3544",
   "metadata": {},
   "outputs": [],
   "source": [
    "p1 = Person()"
   ]
  },
  {
   "cell_type": "code",
   "execution_count": 121,
   "id": "fd8f45f5",
   "metadata": {},
   "outputs": [
    {
     "data": {
      "text/plain": [
       "'사람들임'"
      ]
     },
     "execution_count": 121,
     "metadata": {},
     "output_type": "execute_result"
    }
   ],
   "source": [
    "p1.static_method()"
   ]
  },
  {
   "cell_type": "code",
   "execution_count": null,
   "id": "05aee75b",
   "metadata": {},
   "outputs": [],
   "source": []
  }
 ],
 "metadata": {
  "kernelspec": {
   "display_name": "Python 3 (ipykernel)",
   "language": "python",
   "name": "python3"
  },
  "language_info": {
   "codemirror_mode": {
    "name": "ipython",
    "version": 3
   },
   "file_extension": ".py",
   "mimetype": "text/x-python",
   "name": "python",
   "nbconvert_exporter": "python",
   "pygments_lexer": "ipython3",
   "version": "3.9.9"
  },
  "toc": {
   "base_numbering": 1,
   "nav_menu": {},
   "number_sections": true,
   "sideBar": true,
   "skip_h1_title": false,
   "title_cell": "Table of Contents",
   "title_sidebar": "Contents",
   "toc_cell": false,
   "toc_position": {},
   "toc_section_display": true,
   "toc_window_display": false
  }
 },
 "nbformat": 4,
 "nbformat_minor": 5
}
