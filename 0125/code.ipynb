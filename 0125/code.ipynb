{
 "cells": [
  {
   "cell_type": "code",
   "execution_count": 5,
   "id": "292860ff",
   "metadata": {},
   "outputs": [
    {
     "data": {
      "text/plain": [
       "[40, 6, 32, 42, 29, 12]"
      ]
     },
     "execution_count": 5,
     "metadata": {},
     "output_type": "execute_result"
    }
   ],
   "source": [
    "import random \n",
    "lotto = random.sample(range(1,45),6)\n",
    "lotto"
   ]
  },
  {
   "cell_type": "code",
   "execution_count": 6,
   "id": "4d28e971",
   "metadata": {},
   "outputs": [
    {
     "name": "stdout",
     "output_type": "stream",
     "text": [
      "[40, 6, 32, 42, 29, 12]\n",
      "[6, 12, 29, 32, 40, 42]\n"
     ]
    }
   ],
   "source": [
    "sorted(lotto)\n",
    "print(lotto)\n",
    "print(sorted(lotto))"
   ]
  },
  {
   "cell_type": "code",
   "execution_count": 7,
   "id": "1f5b8393",
   "metadata": {},
   "outputs": [
    {
     "name": "stdout",
     "output_type": "stream",
     "text": [
      "[40, 6, 32, 42, 29, 12]\n",
      "None\n",
      "[6, 12, 29, 32, 40, 42]\n"
     ]
    }
   ],
   "source": [
    "print(lotto)\n",
    "lotto.sort()\n",
    "print(lotto.sort())\n",
    "print(lotto)"
   ]
  },
  {
   "cell_type": "code",
   "execution_count": 8,
   "id": "c4060e64",
   "metadata": {},
   "outputs": [
    {
     "data": {
      "text/plain": [
       "[3]"
      ]
     },
     "execution_count": 8,
     "metadata": {},
     "output_type": "execute_result"
    }
   ],
   "source": [
    "lst = []\n",
    "lst.append(3)\n",
    "lst"
   ]
  },
  {
   "cell_type": "code",
   "execution_count": 10,
   "id": "6cc19a2e",
   "metadata": {},
   "outputs": [
    {
     "name": "stdout",
     "output_type": "stream",
     "text": [
      "[[1, 2, 3, 4, 5], 1, 2, 3, 4, 5]\n"
     ]
    }
   ],
   "source": [
    "lst = []\n",
    "lst.append([1,2,3,4,5])\n",
    "lst.extend([1,2,3,4,5])\n",
    "print(lst)"
   ]
  },
  {
   "cell_type": "code",
   "execution_count": 11,
   "id": "ebbcf58d",
   "metadata": {},
   "outputs": [
    {
     "data": {
      "text/plain": [
       "[[1, 2, 3, 4, 5], 1, 2, 3, 4, 5, 'a', 'b', 'c', 'd']"
      ]
     },
     "execution_count": 11,
     "metadata": {},
     "output_type": "execute_result"
    }
   ],
   "source": [
    "lst.extend('abcd')\n",
    "lst"
   ]
  },
  {
   "cell_type": "code",
   "execution_count": 12,
   "id": "402fbef0",
   "metadata": {},
   "outputs": [
    {
     "ename": "TypeError",
     "evalue": "'int' object is not iterable",
     "output_type": "error",
     "traceback": [
      "\u001b[1;31m---------------------------------------------------------------------------\u001b[0m",
      "\u001b[1;31mTypeError\u001b[0m                                 Traceback (most recent call last)",
      "Input \u001b[1;32mIn [12]\u001b[0m, in \u001b[0;36m<module>\u001b[1;34m\u001b[0m\n\u001b[1;32m----> 1\u001b[0m \u001b[43mlst\u001b[49m\u001b[38;5;241;43m.\u001b[39;49m\u001b[43mextend\u001b[49m\u001b[43m(\u001b[49m\u001b[38;5;241;43m123\u001b[39;49m\u001b[43m)\u001b[49m\n\u001b[0;32m      2\u001b[0m lst\n",
      "\u001b[1;31mTypeError\u001b[0m: 'int' object is not iterable"
     ]
    }
   ],
   "source": [
    "lst.extend(123)\n",
    "lst"
   ]
  },
  {
   "cell_type": "code",
   "execution_count": 13,
   "id": "5ec4b07c",
   "metadata": {},
   "outputs": [],
   "source": [
    "lst.append(123)"
   ]
  },
  {
   "cell_type": "code",
   "execution_count": 14,
   "id": "68ff3956",
   "metadata": {},
   "outputs": [
    {
     "data": {
      "text/plain": [
       "[[1, 2, 3, 4, 5], 1, 2, 3, 4, 5, 'a', 'b', 'c', 'd', 123]"
      ]
     },
     "execution_count": 14,
     "metadata": {},
     "output_type": "execute_result"
    }
   ],
   "source": [
    "lst"
   ]
  },
  {
   "cell_type": "code",
   "execution_count": 15,
   "id": "02f20249",
   "metadata": {},
   "outputs": [],
   "source": [
    "a = [1,2,3,4,5]\n",
    "b = a\n",
    "a[2] = 5 "
   ]
  },
  {
   "cell_type": "code",
   "execution_count": 16,
   "id": "2cedc686",
   "metadata": {},
   "outputs": [
    {
     "name": "stdout",
     "output_type": "stream",
     "text": [
      "[1, 2, 5, 4, 5]\n",
      "[1, 2, 5, 4, 5]\n"
     ]
    }
   ],
   "source": [
    "print(a)\n",
    "print(b)"
   ]
  },
  {
   "cell_type": "code",
   "execution_count": 26,
   "id": "495a4e79",
   "metadata": {},
   "outputs": [
    {
     "data": {
      "text/plain": [
       "'pple'"
      ]
     },
     "execution_count": 26,
     "metadata": {},
     "output_type": "execute_result"
    }
   ],
   "source": [
    "a = 'apple'\n",
    "a = a.replace('a','')\n",
    "a"
   ]
  },
  {
   "cell_type": "code",
   "execution_count": 78,
   "id": "a08160fe",
   "metadata": {},
   "outputs": [],
   "source": [
    "def duplicated_letters(word) :\n",
    "    result = []\n",
    "    for alphabet in word :\n",
    "        if word.count(alphabet) > 1 :\n",
    "            result.append(alphabet)\n",
    "            word = word.replace(alphabet,'')\n",
    "    return result"
   ]
  },
  {
   "cell_type": "code",
   "execution_count": 81,
   "id": "308617fb",
   "metadata": {},
   "outputs": [],
   "source": [
    "def duplicated_letters_2(word) :\n",
    "    result = []\n",
    "    for alphabet in word :\n",
    "        if word.count(alphabet) > 1 :\n",
    "            result.append(word.pop(alphabet))\n",
    "    return result"
   ]
  },
  {
   "cell_type": "code",
   "execution_count": 91,
   "id": "73657858",
   "metadata": {},
   "outputs": [
    {
     "data": {
      "text/plain": [
       "['p']"
      ]
     },
     "execution_count": 91,
     "metadata": {},
     "output_type": "execute_result"
    }
   ],
   "source": [
    "duplicated_letters('apple')"
   ]
  },
  {
   "cell_type": "code",
   "execution_count": 92,
   "id": "dbb7e833",
   "metadata": {},
   "outputs": [
    {
     "data": {
      "text/plain": [
       "['a', 'n']"
      ]
     },
     "execution_count": 92,
     "metadata": {},
     "output_type": "execute_result"
    }
   ],
   "source": [
    "duplicated_letters('banana')"
   ]
  },
  {
   "cell_type": "code",
   "execution_count": 50,
   "id": "36c42d51",
   "metadata": {},
   "outputs": [],
   "source": [
    "def low_and_up(word) :\n",
    "    n_word = word.lower()\n",
    "    result = ''\n",
    "    for i in range(len(n_word)) :\n",
    "        if i%2 == 0 :\n",
    "            result += n_word[i]\n",
    "        else :\n",
    "            result += n_word[i].upper()\n",
    "    return result"
   ]
  },
  {
   "cell_type": "code",
   "execution_count": 56,
   "id": "cd46e9f3",
   "metadata": {},
   "outputs": [
    {
     "data": {
      "text/plain": [
       "'aPpLe'"
      ]
     },
     "execution_count": 56,
     "metadata": {},
     "output_type": "execute_result"
    }
   ],
   "source": [
    "low_and_up('apple')"
   ]
  },
  {
   "cell_type": "code",
   "execution_count": 57,
   "id": "b3580e15",
   "metadata": {},
   "outputs": [
    {
     "data": {
      "text/plain": [
       "'bAnAnA'"
      ]
     },
     "execution_count": 57,
     "metadata": {},
     "output_type": "execute_result"
    }
   ],
   "source": [
    "low_and_up('banana')"
   ]
  },
  {
   "cell_type": "code",
   "execution_count": 55,
   "id": "228356f6",
   "metadata": {},
   "outputs": [],
   "source": [
    "def low_and_up(word) :\n",
    "    result = ''\n",
    "    for i in range(len(word)) :\n",
    "        if i%2 == 0 :\n",
    "            result += word[i].lower()\n",
    "        else :\n",
    "            result += word[i].upper()\n",
    "    return result"
   ]
  },
  {
   "cell_type": "code",
   "execution_count": 58,
   "id": "5c1ce669",
   "metadata": {},
   "outputs": [
    {
     "data": {
      "text/plain": [
       "'aPpLe'"
      ]
     },
     "execution_count": 58,
     "metadata": {},
     "output_type": "execute_result"
    }
   ],
   "source": [
    "low_and_up_2('apple')"
   ]
  },
  {
   "cell_type": "code",
   "execution_count": null,
   "id": "d7a0404c",
   "metadata": {},
   "outputs": [],
   "source": [
    "low_and_up_2('apple')"
   ]
  },
  {
   "cell_type": "code",
   "execution_count": 73,
   "id": "30ace617",
   "metadata": {},
   "outputs": [
    {
     "data": {
      "text/plain": [
       "range(0, 6)"
      ]
     },
     "execution_count": 73,
     "metadata": {},
     "output_type": "execute_result"
    }
   ],
   "source": [
    "range(len(lst)-1)"
   ]
  },
  {
   "cell_type": "code",
   "execution_count": 118,
   "id": "afdbe0d6",
   "metadata": {},
   "outputs": [],
   "source": [
    "def lonely(lst) :\n",
    "    result = [lst[0]]\n",
    "    for i in range(len(lst)) :\n",
    "        if result[-1] == lst[i]:\n",
    "            continue\n",
    "        else :\n",
    "            result.append(lst[i])\n",
    "    return result"
   ]
  },
  {
   "cell_type": "code",
   "execution_count": 119,
   "id": "f46608b8",
   "metadata": {},
   "outputs": [
    {
     "data": {
      "text/plain": [
       "[1, 3, 0, 1]"
      ]
     },
     "execution_count": 119,
     "metadata": {},
     "output_type": "execute_result"
    }
   ],
   "source": [
    "lonely([1,1,3,3,0,1,1])"
   ]
  },
  {
   "cell_type": "code",
   "execution_count": 121,
   "id": "be5414bc",
   "metadata": {},
   "outputs": [
    {
     "data": {
      "text/plain": [
       "[4, 3]"
      ]
     },
     "execution_count": 121,
     "metadata": {},
     "output_type": "execute_result"
    }
   ],
   "source": [
    "lonely([4,4,4,3,3])"
   ]
  },
  {
   "cell_type": "code",
   "execution_count": null,
   "id": "3c17e07b",
   "metadata": {},
   "outputs": [],
   "source": []
  }
 ],
 "metadata": {
  "kernelspec": {
   "display_name": "Python 3 (ipykernel)",
   "language": "python",
   "name": "python3"
  },
  "language_info": {
   "codemirror_mode": {
    "name": "ipython",
    "version": 3
   },
   "file_extension": ".py",
   "mimetype": "text/x-python",
   "name": "python",
   "nbconvert_exporter": "python",
   "pygments_lexer": "ipython3",
   "version": "3.9.9"
  },
  "toc": {
   "base_numbering": 1,
   "nav_menu": {},
   "number_sections": true,
   "sideBar": true,
   "skip_h1_title": false,
   "title_cell": "Table of Contents",
   "title_sidebar": "Contents",
   "toc_cell": false,
   "toc_position": {},
   "toc_section_display": true,
   "toc_window_display": false
  }
 },
 "nbformat": 4,
 "nbformat_minor": 5
}
